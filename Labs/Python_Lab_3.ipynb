{
 "cells": [
  {
   "cell_type": "markdown",
   "metadata": {},
   "source": [
    "# Python_Lab_3\n"
   ]
  },
  {
   "cell_type": "markdown",
   "metadata": {},
   "source": [
    "### Task 1\n",
    "- Write a function named **'create_student_records'** that takes a list of tuples. Each tuple contains a student's name and their scores in three subjects. The function should return a list of dictionaries, where each dictionary represents a student with keys: name, subject1, subject2, subject3. Use list comprehension to create the list of dictionaries."
   ]
  },
  {
   "cell_type": "code",
   "execution_count": 9,
   "metadata": {},
   "outputs": [
    {
     "name": "stdout",
     "output_type": "stream",
     "text": [
      "[{'name': 'Raghad', 'subject1': 85, 'subject2': 100, 'subject3': 70}, {'name': 'Sara', 'subject1': 83, 'subject2': 99, 'subject3': 67}, {'name': 'Tala', 'subject1': 91, 'subject2': 77, 'subject3': 66}]\n",
      "<class 'list'>\n"
     ]
    }
   ],
   "source": [
    "# write your code here ^_^\n",
    "def create_student_records(student):\n",
    "    return [{'name': name,'subject1': score[0],'subject2': score[1],'subject3': score[2]}for name, score in student]\n",
    "\n",
    "student_tuple = [('Raghad', (85, 100, 70)),('Sara', (83, 99, 67)),('Tala', (91, 77, 66))]\n",
    "\n",
    "student = create_student_records(student_tuple)\n",
    "print(student)\n",
    "print(type(student))"
   ]
  },
  {
   "cell_type": "markdown",
   "metadata": {},
   "source": [
    "### Task 2\n",
    "- Write a function named **'filter_and_sort_students'** that takes the list of dictionaries from Question 1 and returns a sorted list of student names who have an average score of 80 or more across all subjects. Sort the names in alphabetical order."
   ]
  },
  {
   "cell_type": "code",
   "execution_count": 12,
   "metadata": {},
   "outputs": [
    {
     "name": "stdout",
     "output_type": "stream",
     "text": [
      "['Raghad', 'Sara']\n"
     ]
    }
   ],
   "source": [
    "# write your code here ^_^\n",
    "def filter_and_sort_students(students):\n",
    "    filtered = filter(\n",
    "        lambda x: (x[\"subject1\"] + x[\"subject2\"] + x[\"subject3\"]) / 3 >= 80,\n",
    "        students\n",
    "    )\n",
    "    return sorted(i[\"name\"] for i in filtered)\n",
    "\n",
    "sorted_students = filter_and_sort_students(student)\n",
    "print(sorted_students)"
   ]
  },
  {
   "cell_type": "markdown",
   "metadata": {},
   "source": [
    "### Task 3\n",
    "- Write a function named **'get_product_info'** that prompts the user to enter information about a product. The function should ask for the product name, product price, and product quantity. If the user enters an invalid input (e.g., a non-numeric value for the price or quantity), the function should handle the error and prompt the user to enter the value again. Return a dictionary containing the product information."
   ]
  },
  {
   "cell_type": "code",
   "execution_count": 25,
   "metadata": {},
   "outputs": [
    {
     "name": "stdout",
     "output_type": "stream",
     "text": [
      "Invalid input. Please enter a numeric value.\n",
      "Invalid input. Please enter a numeric value.\n",
      "Invalid input. Please enter a numeric value.\n",
      "{1: {'name': 'Apple', 'price': 7.0, 'quantity': 7}}\n"
     ]
    }
   ],
   "source": [
    "# write your code here ^_^\n",
    "def get_product_info(product_id, product_info):\n",
    "    product_info[product_id]={}\n",
    "    product_info[product_id]['name'] = input(\"Enter the product name: \")\n",
    "\n",
    "    while True:\n",
    "        try:\n",
    "            price = float(input(\"Enter the product price: \"))\n",
    "            product_info[product_id]['price'] = price\n",
    "            break \n",
    "        except ValueError:\n",
    "            print(\"Invalid input. Please enter a numeric value.\")\n",
    "\n",
    "    while True:\n",
    "        try:\n",
    "            quantity = int(input(\"Enter the product quantity: \"))\n",
    "            product_info[product_id]['quantity'] = quantity\n",
    "            break  \n",
    "        except ValueError:\n",
    "            print(\"Invalid input. Please enter a numeric value.\")\n",
    "\n",
    "    return product_info\n",
    "product_info = {}\n",
    "product_id =0\n",
    "\n",
    "product_id += 1\n",
    "product = get_product_info(product_id ,product_info)\n",
    "print(product)"
   ]
  },
  {
   "cell_type": "markdown",
   "metadata": {},
   "source": [
    "### Task 4\n",
    "- Write a function named **'get_even_numbers'** that takes a list of integers and returns a list of even numbers using list comprehension."
   ]
  },
  {
   "cell_type": "code",
   "execution_count": 19,
   "metadata": {},
   "outputs": [
    {
     "name": "stdout",
     "output_type": "stream",
     "text": [
      "[2, 4, 6, 8, 10]\n"
     ]
    }
   ],
   "source": [
    "# write your code here ^_^\n",
    "def get_even_numbers(numbers):\n",
    "    even_numbers=[]\n",
    "    even_numbers=[i for i in numbers if i%2==0]\n",
    "    return even_numbers\n",
    "numbers = [1,2,3,4,5,6,7,8,9,10]\n",
    "print(get_even_numbers(numbers))"
   ]
  },
  {
   "cell_type": "markdown",
   "metadata": {},
   "source": [
    "### Task 5\n",
    "- Write a function named **'pair_elements'** that takes two lists of equal length as parameters and returns a list of tuples, where each tuple contains corresponding elements from the two lists. Use the zip function to achieve this."
   ]
  },
  {
   "cell_type": "markdown",
   "metadata": {},
   "source": []
  },
  {
   "cell_type": "code",
   "execution_count": 20,
   "metadata": {},
   "outputs": [
    {
     "name": "stdout",
     "output_type": "stream",
     "text": [
      "[(1, 6), (2, 7), (3, 8), (4, 9), (5, 10)]\n"
     ]
    }
   ],
   "source": [
    "# write your code here ^_^\n",
    "def pair_elements(lis1 , lis2):\n",
    "    return list(zip(lis1,lis2))\n",
    "number1 = [1,2,3,4,5]\n",
    "number2 = [6,7,8,9,10]\n",
    "print(pair_elements(number1,number2))"
   ]
  },
  {
   "cell_type": "markdown",
   "metadata": {},
   "source": [
    "### Task 6\n",
    "- Write a function named **'square_dict_lambda'** that takes a list of integers and returns a dictionary where the keys are the integers and the values are their squares. Use a lambda function within a dictionary comprehension to achieve this."
   ]
  },
  {
   "cell_type": "code",
   "execution_count": 24,
   "metadata": {},
   "outputs": [
    {
     "name": "stdout",
     "output_type": "stream",
     "text": [
      "{1: 1, 2: 4, 3: 9, 4: 16, 5: 25}\n"
     ]
    }
   ],
   "source": [
    "# write your code here ^_^\n",
    "def square_dict_lambda(numbers):\n",
    "    return {num: (lambda x: x ** 2)(num) for num in numbers}\n",
    "\n",
    "numbers3 = [1, 2, 3, 4, 5]\n",
    "squared = square_dict_lambda(numbers3)\n",
    "print(squared)"
   ]
  }
 ],
 "metadata": {
  "kernelspec": {
   "display_name": ".venv",
   "language": "python",
   "name": "python3"
  },
  "language_info": {
   "codemirror_mode": {
    "name": "ipython",
    "version": 3
   },
   "file_extension": ".py",
   "mimetype": "text/x-python",
   "name": "python",
   "nbconvert_exporter": "python",
   "pygments_lexer": "ipython3",
   "version": "3.13.0"
  }
 },
 "nbformat": 4,
 "nbformat_minor": 2
}
